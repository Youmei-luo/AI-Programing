import numpy as np
import matplotlib.pyplot as plt
from classification_clustering_data import * # Read data from external file

number_of_clusters=4
maximum_number_of_repetitions=100
color_for_each_cluster=['#984ea3','#ff7f00','#a65628','#e41a1c']
flg_Exit = 0

def calculate_euclidean_distance(XY_of_point1,XY_of_point2): # Calculate by Pythagorean theorem
    return np.sqrt((XY_of_point2[0]-XY_of_point1[0])**2 + (XY_of_point2[1]-XY_of_point1[1])**2) 

def calculate_the_centroid_of_each_cluster(array_of_points,array_of_clusters):
    array_to_return = np.empty((0,2)) # Create an empty 2D array
    for cluster_number in range(number_of_clusters):
        XY_of_the_center_of_gravity = array_of_points[array_of_clusters == cluster_number].mean(axis=0) # Row direction, ie average per column      
        array_to_return=np.append(array_to_return,np.array([XY_of_the_center_of_gravity]),axis=0) # Add row when axis = 0 (add column when axis = 1)
    return array_to_return # Return the confirmed 2D array

def find_the_shortest_distance_centroid_from_each_point(array_of_points,array_of_centroids):
    array_to_return = np.empty(0,int) # Create an empty array
    for point in array_of_points: # Repeat for all points
        array_of_distances = np.empty(0) # Create an empty array     
        for centroid in array_of_centroids: # Calculate distances from a point to all centroids
            array_of_distances = np.append(array_of_distances,calculate_euclidean_distance(point, centroid))
        array_to_return = np.append(array_to_return,array_of_distances.argmin()) # Number of minimum value in array of distance
    return array_to_return

def clustering_with_k_means():
    np.random.seed(0) # fix seed
    temporary_cluster_array = np.random.randint(0, number_of_clusters, len(STUDENTS)) # Initial state is random
    print(" [cluster in initial state] \n"+ str(temporary_cluster_array))
    # Update cluster repeatedly
    for number_of_repetitions in range(maximum_number_of_repetitions):
            print("Start the " + str(number_of_repetitions+1) + "th iteration")        
            # Calculate center of gravity for each cluster         
            temporary_centroid_array = calculate_the_centroid_of_each_cluster(STUDENTS,temporary_cluster_array)             
            print(" [centroid] \n"+ str(temporary_centroid_array))
            # Find the shortest distance center of gravity from each point and update the cluster to which each point belongs
            array_of_clusters_to_be_updated  = find_the_shortest_distance_centroid_from_each_point(STUDENTS,temporary_centroid_array)
            print(" [cluster recalculated] \n"+ str(array_of_clusters_to_be_updated ))                                                    
            if((array_of_clusters_to_be_updated  == temporary_cluster_array).all()==True): # End if same as previous
                break            
            temporary_cluster_array = array_of_clusters_to_be_updated  # Up to this point, it is not the same as before, so update the temporary cluster
            showing_progress_or_result(STUDENTS,temporary_cluster_array,color_for_each_cluster) 
    return temporary_cluster_array,temporary_centroid_array # End repeatedly and return final result

def showing_progress_or_result(array_of_points,array_of_clusters,color_array):
    plt.figure(figsize=(12, 12))
    plt.title("Students, n=200")
    plt.xlabel("Online")
    plt.ylabel("Offline")    
    for i in range(number_of_clusters):
        data_to_display = array_of_points[array_of_clusters == i]
        plt.scatter(data_to_display[:, 0], data_to_display[:, 1],c=color_array[i],s=60)
    if flg_Exit == 1:
        plt.scatter(determined_center_of_gravity[:,0], determined_center_of_gravity[:,1], marker="*", c = color_for_each_cluster, s = 500)
        
    plt.show()

########## Main processing from now on ########## 
#print(STUDENTS) 
clustering_result, determined_center_of_gravity = clustering_with_k_means()
print("[clustering_result] \n"+ str(clustering_result))
flg_Exit = 1
showing_progress_or_result(STUDENTS,clustering_result,color_for_each_cluster)   



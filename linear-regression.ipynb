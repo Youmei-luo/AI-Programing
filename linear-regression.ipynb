{
 "cells": [
  {
   "cell_type": "code",
   "execution_count": 2,
   "metadata": {},
   "outputs": [
    {
     "name": "stdout",
     "output_type": "stream",
     "text": [
      "41088 Repeated \n",
      "a and b that minimize the loss function obtained by the gradient method are\n",
      "8.477403460299513\n",
      "145.09863070323775\n",
      "Final mean square error\n",
      "344.72719664673\n"
     ]
    },
    {
     "data": {
      "image/png": "[encoded data removed]",
      "text/plain": [
       "<Figure size 576x432 with 1 Axes>"
      ]
     },
     "metadata": {
      "needs_background": "light"
     },
     "output_type": "display_data"
    }
   ],
   "source": [
    "from matplotlib import pyplot as plt\n",
    "import numpy as np\n",
    "\n",
    "# UMA's age and height\n",
    "age = np.array([6,8,9,7,9,10,10,12,13,15,16,14,13,16,19,18,22,21,25,23])\n",
    "Height = np.array([164.61,187.25,204.30,204.88,229.48,231.99,236.59,240.36,263.98,264.79,281.85,288.38,298.75,306.34,307.48,312.44,317.72,319.41,323.96,341.96])\n",
    "\n",
    "# The loss function which wanted to minimize is defined as the mean square error\n",
    "# Parameter vector [0] is a at y = ax + b, parameter vector [1] is b\n",
    "def loss_function(parameter_vector): \n",
    "    parametera = parameter_vector[0]\n",
    "    parameterb = parameter_vector[1]    \n",
    "    # Square the error  and return mean with np.mean\n",
    "    # Note that age and height are arrays\n",
    "    return np.mean((parametera * age + parameterb - Height)**2) \n",
    "\n",
    "def like_partial_derivative(func, current_location_vector): # Regarding all variables, Make the result of partial differentiation into a slope vector    \n",
    "    slope_vector = np.empty_like(current_location_vector) # Create empty slope vector\n",
    "    for i in range(len(current_location_vector)):\n",
    "        # Execute  \"help_like_partial_derivative\" at the i-th variable\n",
    "        slope_vector[i] = help_like_partial_derivative(func, current_location_vector, i)\n",
    "    \n",
    "    return slope_vector # Return the fixed slope vector\n",
    "\n",
    "def help_like_partial_derivative(func, current_location_vector, i):\n",
    "    small_width = 0.0001    \n",
    "    difference_calculation_vector = np.zeros_like(current_location_vector) # First  fill zero\n",
    "    difference_calculation_vector[i] = small_width     # Set a small width only to the i-th target for difference calculation\n",
    "    # Subtract and divide using a small width, find the slope and return\n",
    "    return (func(current_location_vector+difference_calculation_vector) - func(current_location_vector-difference_calculation_vector)) / (2*small_width)\n",
    "\n",
    "def gradient_method(func, start_location_vector, learning_rate=0.001, max_number_of_repetitions=100000):\n",
    "    current_location_vector = start_location_vector\n",
    "    convergence_condition_slope = 0.001\n",
    "    \n",
    "    for i in range(max_number_of_repetitions): # Repeat until convergence\n",
    "        # Find the slope (vector) at the current location\n",
    "        slope_vector = like_partial_derivative(func, current_location_vector) \n",
    "        # Change current location based on slope\n",
    "        current_location_vector = current_location_vector - learning_rate * slope_vector\n",
    "        # The loop ends if both of the convergence conditions fall below the slope. \n",
    "        # However, when i is 0, the loop does not end because the slope vector is [0,0]\n",
    "        if abs(slope_vector[0]) < convergence_condition_slope and abs(slope_vector[1]) < convergence_condition_slope and i > 0:        \n",
    "            break\n",
    "\n",
    "    # Return the final location\n",
    "    print(str(i)+\" Repeated \")    \n",
    "    return current_location_vector\n",
    "\n",
    "# Find minimum value of function by gradient method (initial value is 5,5)\n",
    "minimum_value = gradient_method(loss_function, [5, 5])\n",
    "print(\"a and b that minimize the loss function obtained by the gradient method are\")\n",
    "print(minimum_value[0])\n",
    "print(minimum_value[1])\n",
    "print(\"Final mean square error\")\n",
    "print(loss_function(minimum_value))\n",
    "\n",
    "###Scatter plot and regression line\n",
    "plt.figure(figsize = (8, 6))\n",
    "plt.title(\"Age and Height\")\n",
    "plt.xlim([0, 30])\n",
    "plt.ylim([0, 350])\n",
    "plt.xlabel(\"age\")\n",
    "plt.ylabel(\"height (cm)\")\n",
    "plt.scatter(age,Height,color=\"k\") # Scatter plot\n",
    "# Layer straight line\n",
    "###\n",
    "x2 = np.linspace(0,30,10) # Array at equal intervals in the X-axis direction\n",
    "y2 = minimum_value[0]*x2+minimum_value[1]  # Array the values in the Y-axis direction (ax + b value)\n",
    "plt.plot(x2,y2,color=\"r\")\n",
    "plt.show()"
   ]
  },
  {
   "cell_type": "code",
   "execution_count": null,
   "metadata": {},
   "outputs": [],
   "source": []
  }
 ],
 "metadata": {
  "kernelspec": {
   "display_name": "Python 3",
   "language": "python",
   "name": "python3"
  },
  "language_info": {
   "codemirror_mode": {
    "name": "ipython",
    "version": 3
   },
   "file_extension": ".py",
   "mimetype": "text/x-python",
   "name": "python",
   "nbconvert_exporter": "python",
   "pygments_lexer": "ipython3",
   "version": "3.7.3"
  }
 },
 "nbformat": 4,
 "nbformat_minor": 2
}

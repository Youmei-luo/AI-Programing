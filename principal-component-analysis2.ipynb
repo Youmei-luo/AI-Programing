{
 "cells": [
  {
   "cell_type": "code",
   "execution_count": 2,
   "metadata": {},
   "outputs": [
    {
     "name": "stdout",
     "output_type": "stream",
     "text": [
      "Sum of variance of raw scores for each subject\n",
      "923.66\n",
      "Variance of principal component scores\n",
      "844.45\n",
      "Contribution rate (divide [variance of principal component score] by [sum of variance of raw scores for each subject])\n",
      "0.91\n",
      "Contribution ratio easily found with scikit-learn function\n",
      "0.91\n",
      "Principal component load (second principal component)\n",
      "[[ 0.76  0.24  0.2  -0.53 -0.24]]\n",
      "Compare the first and second principal component load\n",
      "The first   [[0.49 0.17 0.2  0.83 0.07]]\n",
      "The second  [[ 0.76  0.24  0.2  -0.53 -0.24]]\n",
      "Sum of variance of raw scores for each subject\n",
      "923.66\n",
      "Variance of principal component score (1st)\n",
      "844.45\n",
      "Contribution rate\n",
      "0.91\n",
      "Contribution ratio of second principal component\n",
      "0.05\n",
      "Cumulative contribution\n",
      "0.96\n",
      "Compare the first and second principal component load\n",
      "The first   [[0.49 0.17 0.2  0.83 0.07]]\n",
      "The second  [[ 0.76  0.24  0.2  -0.53 -0.24]]\n"
     ]
    },
    {
     "data": {
      "image/png": "[encoded data removed]",
      "text/plain": [
       "<Figure size 576x432 with 1 Axes>"
      ]
     },
     "metadata": {
      "needs_background": "light"
     },
     "output_type": "display_data"
    },
    {
     "name": "stdout",
     "output_type": "stream",
     "text": [
      "0 149.94 16.00\n",
      "1 90.05 4.36\n",
      "2 130.60 12.01\n",
      "3 97.36 8.44\n",
      "4 129.74 21.97\n",
      "5 146.48 10.75\n",
      "6 37.88 17.66\n",
      "7 107.63 28.43\n",
      "8 119.24 17.19\n",
      "9 85.76 24.44\n",
      "10 64.50 7.83\n",
      "11 69.97 24.13\n",
      "12 84.45 24.84\n",
      "13 110.94 19.49\n",
      "14 91.66 13.20\n",
      "15 64.16 7.76\n",
      "16 76.24 14.91\n",
      "17 107.48 15.63\n",
      "18 136.32 12.22\n",
      "19 99.09 7.78\n"
     ]
    },
    {
     "data": {
      "image/png": "[encoded data removed]",
      "text/plain": [
       "<Figure size 432x288 with 1 Axes>"
      ]
     },
     "metadata": {
      "needs_background": "light"
     },
     "output_type": "display_data"
    }
   ],
   "source": [
    "import matplotlib.pyplot as plt\n",
    "from sklearn.decomposition import PCA\n",
    "import numpy as np\n",
    "import matplotlib.cm as cm # Colors  at the time of display\n",
    "plt.figure(figsize = (8, 6)) # Preparation for display\n",
    "\n",
    "# Each column is in the order of mathematics, science, society, English, Japanese\n",
    "all_test_data=np.array([[71,64,83,100,71],[34,48,67,57,68],[58,59,78,87,66],[41,51,70,60,72],[69,56,74,81,66],[64,65,82,100,71],[16,45,63,7,59],[59,59,78,59,62],[57,54,84,73,72],[46,54,71,43,62],[23,49,64,33,70],[39,48,71,29,66],[46,55,68,42,61],[52,56,82,67,60],[39,53,78,52,72],[23,43,63,35,59],[37,45,67,39,70],[52,51,74,65,69],[63,56,79,91,70],[39,49,73,64,60]])\n",
    "np.set_printoptions(precision=2) # Number of decimal places\n",
    "number_of_examinees=all_test_data.shape[0] # The number of rows in all test data is the number of examinees\n",
    "pca=PCA(n_components=2) # Create PCA instance (reduce to 2D)\n",
    "pca.fit(all_test_data) # Principal component analysis (unsupervised learning)\n",
    "principal_component_load = -1*pca.components_[[0],:] # Only the first principal component\n",
    "Principal_component_scores_for_each_examinees=all_test_data.dot(principal_component_load.T)\n",
    "\n",
    "\n",
    "print(\"Sum of variance of raw scores for each subject\")\n",
    "sum_of_variance_raw_scores_for_each_subject=np.sum(np.var(all_test_data, axis=0))\n",
    "print('{0:.2f}'.format(sum_of_variance_raw_scores_for_each_subject)) # Sum of variances of raw scores for all subjects\n",
    "print(\"Variance of principal component scores\")\n",
    "variance_of_principal_component_scores=np.var(Principal_component_scores_for_each_examinees)\n",
    "print('{0:.2f}'.format(variance_of_principal_component_scores))\n",
    "print(\"Contribution rate (divide [variance of principal component score] by [sum of variance of raw scores for each subject])\")\n",
    "print('{0:.2f}'.format(variance_of_principal_component_scores/sum_of_variance_raw_scores_for_each_subject))\n",
    "\n",
    "\n",
    "print(\"Contribution ratio easily found with scikit-learn function\")\n",
    "print('{0:.2f}'.format(pca.explained_variance_ratio_[0])) # First principal component contribution rate\n",
    "\n",
    "\n",
    "principal_component_load_for_the_second_principal_component=pca.components_[[1],:] # Only second principal component\n",
    "print(\"Principal component load (second principal component)\")\n",
    "print(principal_component_load_for_the_second_principal_component)\n",
    "\n",
    "\n",
    "##### Compared to the first and interpret the second principal component \n",
    "principal_component_load_for_the_first_principal_component=principal_component_load\n",
    "print(\"Compare the first and second principal component load\")\n",
    "print(\"The first  \",principal_component_load_for_the_first_principal_component) \n",
    "print(\"The second \",principal_component_load_for_the_second_principal_component) \n",
    "\n",
    "\n",
    "# Remember the contribution of the first principal component\n",
    "print(\"Sum of variance of raw scores for each subject\")\n",
    "sum_of_variance_raw_scores_for_each_subject=np.sum(np.var(all_test_data, axis=0))\n",
    "print('{0:.2f}'.format(sum_of_variance_raw_scores_for_each_subject)) # Sum of variances of raw scores for all subjects\n",
    "print(\"Variance of principal component score (1st)\")\n",
    "variance_of_first_principal_component_score=np.var(Principal_component_scores_for_each_examinees)\n",
    "print('{0:.2f}'.format(variance_of_first_principal_component_score))\n",
    "print(\"Contribution rate\")\n",
    "print('{0:.2f}'.format(variance_of_first_principal_component_score/sum_of_variance_raw_scores_for_each_subject))\n",
    "\n",
    "\n",
    "print(\"Contribution ratio of second principal component\")\n",
    "print('{0:.2f}'.format(pca.explained_variance_ratio_[1])) # Contribution ratio of second principal component\n",
    "\n",
    "\n",
    "print(\"Cumulative contribution\")\n",
    "print('{0:.2f}'.format(np.sum(pca.explained_variance_ratio_))) # Sum of contribution ratio\n",
    "\n",
    "\n",
    "############# Evaluate each subject from principal component load\n",
    "print(\"Compare the first and second principal component load\")\n",
    "print(\"The first  \",principal_component_load_for_the_first_principal_component) \n",
    "print(\"The second \",principal_component_load_for_the_second_principal_component) \n",
    "# For each subject, the first principal component load is displayed on the X axis, \n",
    "# and the second principal component load is displayed on the Y axis\n",
    "plt.scatter(principal_component_load_for_the_first_principal_component,principal_component_load_for_the_second_principal_component) \n",
    "plt.xlabel(\"X\")\n",
    "plt.ylabel(\"Y\")\n",
    "plt.grid(True)\n",
    "plt.show()\n",
    "\n",
    "\n",
    "############ Evaluate each examinees from the principal component score\n",
    "Principal_component_scores_for_each_examinees_first=all_test_data.dot(principal_component_load_for_the_first_principal_component.T).flatten()\n",
    "Principal_component_scores_for_each_examinees_second=all_test_data.dot(principal_component_load_for_the_second_principal_component.T).flatten()\n",
    "\n",
    "for examinees_numbers in range(number_of_examinees):\n",
    "    print(examinees_numbers,'{0:.2f}'.format(Principal_component_scores_for_each_examinees_first[examinees_numbers]),'{0:.2f}'.format(Principal_component_scores_for_each_examinees_second[examinees_numbers]))\n",
    "\n",
    "# An array of colors (for changing the color of a particular examinee to make it stand out)    \n",
    "y=[0.5,0.5,1,1,1,1,1,0.5,1,1,1,1,1,1,1,1,1,1,1,1] \n",
    "plt.scatter(Principal_component_scores_for_each_examinees_first,Principal_component_scores_for_each_examinees_second, vmin=-1, vmax=1, c=y, cmap=cm.seismic)\n",
    "plt.grid(True)\n",
    "plt.show()\n",
    "\n",
    "\n"
   ]
  },
  {
   "cell_type": "code",
   "execution_count": null,
   "metadata": {},
   "outputs": [],
   "source": []
  }
 ],
 "metadata": {
  "kernelspec": {
   "display_name": "Python 3",
   "language": "python",
   "name": "python3"
  },
  "language_info": {
   "codemirror_mode": {
    "name": "ipython",
    "version": 3
   },
   "file_extension": ".py",
   "mimetype": "text/x-python",
   "name": "python",
   "nbconvert_exporter": "python",
   "pygments_lexer": "ipython3",
   "version": "3.7.3"
  }
 },
 "nbformat": 4,
 "nbformat_minor": 2
}

{
 "cells": [
  {
   "cell_type": "code",
   "execution_count": 5,
   "metadata": {},
   "outputs": [
    {
     "name": "stdout",
     "output_type": "stream",
     "text": [
      "0 5.9999999999860165 0.40000000000139835\n",
      "1 4.799999999987037 -0.07999999999730534\n",
      "2 3.8400000000038403 -0.46399999999768937\n",
      "3 3.0720000000039605 -0.7711999999980854\n",
      "4 2.4576000000031684 -1.0169599999984023\n",
      "5 1.966080000004311 -1.2135679999988334\n",
      "6 1.5728640000034488 -1.3708543999991782\n",
      "7 1.2582912000014268 -1.496683519999321\n",
      "8 1.0066329600011414 -1.597346815999435\n",
      "9 0.8053063680013572 -1.6778774527995708\n",
      "10 0.6442450944010858 -1.7423019622396794\n",
      "11 0.5153960755199805 -1.7938415697916774\n",
      "12 0.41231686041642845 -1.8350732558333203\n",
      "13 0.3298534883322546 -1.8680586046665457\n",
      "14 0.26388279066758 -1.8944468837333037\n",
      "15 0.21110623253273175 -1.915557506986577\n",
      "16 0.16888498602707358 -1.9324460055892843\n",
      "17 0.13510798882121478 -1.9459568044714057\n",
      "18 0.10808639105741591 -1.9567654435771473\n",
      "19 0.08646911284548864 -1.9654123548616962\n",
      "20 0.06917529027594682 -1.9723298838892909\n",
      "21 0.055340232221201546 -1.977863907111411\n",
      "22 0.044272185777405326 -1.9822911256891516\n",
      "23 0.03541774862281244 -1.9858329005514328\n",
      "24 0.028334198896029505 -1.9886663204410358\n",
      "25 0.02266735911859996 -1.9909330563528957\n",
      "26 0.01813388729399179 -1.992746445082295\n",
      "27 0.014507109835637522 -1.9941971560658587\n",
      "28 0.011605687868510017 -1.9953577248527097\n",
      "29 0.009284550295252103 -1.996286179882235\n",
      "30 0.0074276402362016825 -1.997028943905855\n",
      "31 0.005942112188961346 -1.9976231551247512\n",
      "32 0.0047536897507249876 -1.9980985240998237\n",
      "33 0.003802951800135901 -1.9984788192798373\n",
      "34 0.00304236144055281 -1.9987830554238926\n",
      "35 0.002433889152442248 -1.9990264443391368\n",
      "36 0.001947111323286066 -1.9992211554714654\n",
      "37 0.0015576890577406743 -1.9993769243772395\n",
      "38 0.0012461512444161826 -1.999501539501681\n",
      "39 0.0009969209968652137 -1.9996012316013676\n"
     ]
    },
    {
     "data": {
      "image/png": "[encoded data removed]",
      "text/plain": [
       "<Figure size 432x288 with 1 Axes>"
      ]
     },
     "metadata": {
      "needs_background": "light"
     },
     "output_type": "display_data"
    },
    {
     "name": "stdout",
     "output_type": "stream",
     "text": [
      "x that minimizes the function is -1.9996012316013676\n"
     ]
    }
   ],
   "source": [
    "# Find minimum point of quadratic function by gradient method\n",
    "import numpy as np\n",
    "from matplotlib import pyplot as plt\n",
    "\n",
    "def find_the_minimum_for_function(x):    \n",
    "    #return x**2 # x^2\n",
    "    #return (x - 1)**2\n",
    "    return (x + 2)**2 + 3\n",
    "\n",
    "def numerical_differentiation(func, x): # x is the current position\n",
    "    small_width = 0.0001 # Use a very small value for the width\n",
    "    # Divide the difference and return result\n",
    "    return(func(x+small_width) - func(x-small_width)) / (2*small_width) \n",
    "\n",
    "# Find minimum value by gradient method\n",
    "def gradient_method(func, x_for_starting_point, learning_rate, maximum_number_of_repetitions=100,convergence_condition_slope= 0.001): \n",
    "    ###For display###############\n",
    "    array_for_number_of_repetitions = np.empty(0)\n",
    "    array_for_the_course_of_slope = np.empty(0)\n",
    "    #############################\n",
    "    x = x_for_starting_point # The current position\n",
    "    for i in range(maximum_number_of_repetitions):        \n",
    "        tangent_slope = numerical_differentiation(func, x) # Find the slope at the current location of (x)         \n",
    "        x = x - learning_rate*tangent_slope # Move x based on slope\n",
    "        print(str(i)+ \" \",end=\"\")\n",
    "        print(tangent_slope,end=\"\")\n",
    "        print(\" \",end=\"\")\n",
    "        print(x)\n",
    "        array_for_number_of_repetitions = np.append(array_for_number_of_repetitions,i)\n",
    "        array_for_the_course_of_slope = np.append(array_for_the_course_of_slope,tangent_slope)\n",
    "        \n",
    "        if tangent_slope < convergence_condition_slope:\n",
    "            break # End repeatedly when the slope falls below the condition     \n",
    "    return x, array_for_number_of_repetitions, array_for_the_course_of_slope # Return the last x\n",
    "\n",
    "#x_that_minimizes_the_function = gradient_method(find_the_minimum_for_function,1,0.1) # start point is 1、learning_rate is 0.1\n",
    "result = gradient_method(find_the_minimum_for_function,1,0.1)\n",
    "plt.plot(result[1], result[2])\n",
    "plt.show()\n",
    "\n",
    "print(\"x that minimizes the function is \",end=\"\")\n",
    "#print(X_that_minimizes_the_function)\n",
    "print(result[0])"
   ]
  },
  {
   "cell_type": "code",
   "execution_count": null,
   "metadata": {},
   "outputs": [],
   "source": []
  }
 ],
 "metadata": {
  "kernelspec": {
   "display_name": "Python 3",
   "language": "python",
   "name": "python3"
  },
  "language_info": {
   "codemirror_mode": {
    "name": "ipython",
    "version": 3
   },
   "file_extension": ".py",
   "mimetype": "text/x-python",
   "name": "python",
   "nbconvert_exporter": "python",
   "pygments_lexer": "ipython3",
   "version": "3.7.3"
  }
 },
 "nbformat": 4,
 "nbformat_minor": 2
}

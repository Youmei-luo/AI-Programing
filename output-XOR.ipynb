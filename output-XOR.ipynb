{
 "cells": [
  {
   "cell_type": "code",
   "execution_count": 2,
   "metadata": {},
   "outputs": [
    {
     "name": "stdout",
     "output_type": "stream",
     "text": [
      "Output AND\n",
      "[0, 0] 0\n",
      "[0, 1] 0\n",
      "[1, 0] 0\n",
      "[1, 1] 1\n",
      "Output NAND\n",
      "[0, 0] 1\n",
      "[0, 1] 1\n",
      "[1, 0] 1\n",
      "[1, 1] 0\n",
      "Output OR\n",
      "[0, 0] 0\n",
      "[0, 1] 1\n",
      "[1, 0] 1\n",
      "[1, 1] 1\n",
      "Output XOR\n",
      "[0, 0] 0\n",
      "[0, 1] 1\n",
      "[1, 0] 1\n",
      "[1, 1] 0\n"
     ]
    }
   ],
   "source": [
    "# AND,NAND,OR,furthermore XOR\n",
    "import numpy as np\n",
    "\n",
    "def func_AND(input1, input2):\n",
    "    input = np.array([input1, input2])\n",
    "    weight = np.array([1, 1])\n",
    "    bias = -1.5\n",
    "    if np.sum(weight*input)+bias<=0:\n",
    "        return 0\n",
    "    else:\n",
    "        return 1\n",
    "    \n",
    "def func_NAND(input1, input2):\n",
    "    input = np.array([input1, input2])\n",
    "    weight = np.array([-1, -1])\n",
    "    bias = 1.5\n",
    "    if np.sum(weight*input)+bias<=0:\n",
    "        return 0\n",
    "    else:\n",
    "        return 1\n",
    "\n",
    "def myfunc_NAND(input1, input2):\n",
    "    input = np.array([input1, input2])\n",
    "    weight = np.array([1, 1])\n",
    "    bias = -1.5\n",
    "    if np.sum(weight*input)+bias<=0:\n",
    "        return 1\n",
    "    else:\n",
    "        return 0   \n",
    "    \n",
    "def func_OR(input1, input2):\n",
    "    input = np.array([input1, input2])\n",
    "    ###### Set this weight and bias yourself #####\n",
    "    weight = np.array([1, 1])\n",
    "    bias = -0.5        \n",
    "    if np.sum(weight*input)+bias<=0:\n",
    "        return 0\n",
    "    else:\n",
    "        return 1\n",
    "\n",
    "def func_XOR(input1, input2):\n",
    "    middle_layer_1 = func_NAND(input1, input2)\n",
    "    middle_layer_2 = func_OR(input1, input2)\n",
    "    y = func_AND(middle_layer_1, middle_layer_2)\n",
    "    return y\n",
    "\n",
    "print(\"Output AND\")\n",
    "for i in [[0,0],[0,1],[1,0],[1,1]]:\n",
    "    print(i, func_AND(i[0],i[1]))\n",
    "\n",
    "print(\"Output NAND\")    \n",
    "for i in [[0,0],[0,1],[1,0],[1,1]]:\n",
    "    print(i, myfunc_NAND(i[0],i[1])) \n",
    "    \n",
    "print(\"Output OR\")    \n",
    "for i in [[0,0],[0,1],[1,0],[1,1]]:\n",
    "    print(i, func_OR(i[0],i[1])) \n",
    "    \n",
    "print(\"Output XOR\")    \n",
    "for i in [[0,0],[0,1],[1,0],[1,1]]:\n",
    "    print(i, func_XOR(i[0],i[1])) \n",
    "       "
   ]
  },
  {
   "cell_type": "code",
   "execution_count": null,
   "metadata": {},
   "outputs": [],
   "source": []
  }
 ],
 "metadata": {
  "kernelspec": {
   "display_name": "Python 3",
   "language": "python",
   "name": "python3"
  },
  "language_info": {
   "codemirror_mode": {
    "name": "ipython",
    "version": 3
   },
   "file_extension": ".py",
   "mimetype": "text/x-python",
   "name": "python",
   "nbconvert_exporter": "python",
   "pygments_lexer": "ipython3",
   "version": "3.7.3"
  }
 },
 "nbformat": 4,
 "nbformat_minor": 2
}

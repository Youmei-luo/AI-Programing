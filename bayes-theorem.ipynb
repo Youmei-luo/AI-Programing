{
 "cells": [
  {
   "cell_type": "code",
   "execution_count": 3,
   "metadata": {},
   "outputs": [
    {
     "name": "stdout",
     "output_type": "stream",
     "text": [
      "Probability of container 1 before taking out a snack : 0.5\n",
      "Probability of container 1 after taking out a snack : 0.9192938209331651\n",
      "Minimum n number 6\n"
     ]
    },
    {
     "data": {
      "image/png": "[encoded data removed]",
      "text/plain": [
       "<Figure size 432x288 with 1 Axes>"
      ]
     },
     "metadata": {
      "needs_background": "light"
     },
     "output_type": "display_data"
    }
   ],
   "source": [
    "# Learn how to write programs using Bayes' theorem\n",
    "import numpy as np\n",
    "import matplotlib.pyplot as plt\n",
    "probability={}\n",
    "likelihood={}\n",
    "likelihood['vanilla']={}\n",
    "likelihood['chocolate']={}\n",
    "\n",
    "probability['container1']=0.5 # Prior probability dictionary object p (container 1)\n",
    "probability['container2']=0.5 # Prior probability dictionary object p (container 2)\n",
    "\n",
    "probability_for_graph = []\n",
    "\n",
    "# The likelihood is represented by a two-dimensional dictionary object\n",
    "likelihood['vanilla']['container1'] = 0.75 # Probability to take out  vanilla from container 1\n",
    "likelihood['vanilla']['container2'] = 0.5 # Probability to take out  vanilla from container 2\n",
    "likelihood['chocolate']['container1'] = 0.25 # Probability to take out  chocolate from container 1 \n",
    "likelihood['chocolate']['container2'] = 0.5 # Probability to take out  chocolate from container 2\n",
    "\n",
    "\n",
    "\n",
    "def update(container,this_likelihood): # Bayesian update function\n",
    "  probability[container]=probability[container]*this_likelihood\n",
    "\n",
    "def normalization(): # Function that normalizes the sum of the probabilities to 1\n",
    "  sum=0\n",
    "  for this_container in probability:\n",
    "    sum=sum+probability[this_container]\n",
    "  for this_container in probability:\n",
    "    probability[this_container]=probability[this_container]/sum\n",
    "\n",
    "# Probability of container 1 before updating, (this means  before takeing out cookies)\n",
    "print(\"Probability of container 1 before taking out a snack : \"+str(probability['container1'])) \n",
    "\n",
    "i = 0\n",
    "while probability['container1'] < 0.9:\n",
    "\n",
    "    update('container1',likelihood['vanilla']['container1']) # It was vanilla when took it out\n",
    "    update('container2',likelihood['vanilla']['container2']) # It was vanilla when took it out\n",
    "    normalization()\n",
    "    i = i + 1\n",
    "    probability_for_graph.append(probability['container1'])\n",
    "    \n",
    "\n",
    "\n",
    "# Probability of container 1 after Bayes update\n",
    "print(\"Probability of container 1 after taking out a snack : \"+str(probability['container1'])) \n",
    "print(\"Minimum n number \" +str(i))\n",
    "\n",
    "###### Display how probabilities are changing about container 1 ######\n",
    "x = np.arange(0,6,1)\n",
    "plt.plot(x,probability_for_graph)\n",
    "plt.show()       \n",
    "\n"
   ]
  },
  {
   "cell_type": "code",
   "execution_count": null,
   "metadata": {},
   "outputs": [],
   "source": []
  }
 ],
 "metadata": {
  "kernelspec": {
   "display_name": "Python 3",
   "language": "python",
   "name": "python3"
  },
  "language_info": {
   "codemirror_mode": {
    "name": "ipython",
    "version": 3
   },
   "file_extension": ".py",
   "mimetype": "text/x-python",
   "name": "python",
   "nbconvert_exporter": "python",
   "pygments_lexer": "ipython3",
   "version": "3.7.3"
  }
 },
 "nbformat": 4,
 "nbformat_minor": 2
}

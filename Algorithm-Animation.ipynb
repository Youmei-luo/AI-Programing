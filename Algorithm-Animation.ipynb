import matplotlib.animation as animation
%matplotlib nbagg

import numpy as np
import matplotlib.pyplot as plt

fig = plt.figure() # Create Plot Area

all_frame = [] # 
x_axis=range(10) # [0,1,2,3,4,5,6,7,8,9]

def bub_sort(lst):
    # 
    for i in range(len(lst)): 
        # 
        for j in range(len(lst)-1, i, -1): 
            # 
            if lst[j] < lst[j-1]: 
                # 
                tmp_value = lst[j]
                lst[j] = lst[j-1]
                lst[j-1] = tmp_value
            #                 
            #  
            one_frame = plt.bar(x_axis,lst,color='c')
            #           
            # 
            all_frame.append(one_frame)
            print(lst) # 

bub_sort([31,53,69,12,74,88,46,92,21,5])

ani=animation.ArtistAnimation(fig,all_frame,interval=500, repeat=False)


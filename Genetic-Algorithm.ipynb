# Genetic Algorithm ↓
import random
import copy

from matplotlib import pyplot
import math
import numpy as np

class Answering_the_quiz(object):
    def __init__(self, answer_list, grade):
        self.answer_list = answer_list
        self.grade = grade

Correct_answer = [2,1,2,2,2,1,1,2,1,1] # List correct answers of all questions
Group = []
Grade_list = [] #  Grades of all individuals
Number_of_choices = 3 # 3 choices
Number_of_questions = 10 # 10 questions
Number_of_individuals = 10 # number of individuals in the population
point_per_1 = 1 # 1 point per question
Full_score = Number_of_questions * point_per_1   # perfect score is 10 points

def evaluation(this_individual): # read all questions of individual and return total score
    Evaluation_value = 0
    for questions in range (Number_of_questions):
        if this_individual[questions] == Correct_answer[questions]:  # increase the evaluation value if correc
            Evaluation_value = Evaluation_value + point_per_1
    return Evaluation_value

def Evaluate_all_individuals_in_the_dgroup ():
    for individual in range (Number_of_individuals):
        Group[individual].grade = evaluation(Group[individual].answer_list)

def mutation(this_individual, location):
    this_individual[location] = this_individual[location]%Number_of_choices +1 # Choices vary from 1-> 2,2-> 3,3-> 1 due to the remainder
    return (this_individual)

def Crossover(first_plan, second_plan, crossing_point):    # If [1,2,3,4,5] has 2 crossing points, split into [1,2] and [3,4,5] To replace other genes
    front_side_of_1st_plan = first_plan[0: crossing_point] # Up to the crossover location in the list
    back_side_of_1st_plan  = first_plan[crossing_point:]   # to the end of the list
    front_side_of_2nd_plan = second_plan[0: crossing_point] # up to the crossing point of the list
    back_side_of_2nd_plan  = second_plan[crossing_point:]   # to the end of the list
    first_plan  = front_side_of_1st_plan + back_side_of_2nd_plan # Connect
    second_plan = front_side_of_2nd_plan + back_side_of_1st_plan # Connect
    return (first_plan, second_plan)

def Output_group_to_screen():
    for individual in range (Number_of_individuals):
        Group[individual].grade = evaluation(Group[individual].answer_list)
        print (str(individual) + " ", end = "")
        print (Group[individual].answer_list, end = "")
        print (" ", end = "")
        print (Group[individual].grade)

def Get_a_list_of_the_scores_in_the_group ():
    group_grade_list = []
    for individual in range(Number_of_individuals):
        group_grade_list.append(Group[individual].grade)
    return group_grade_list

#### Main processing from here

#### All individuals answer guesswork and make the initial state of the group
for individual in range(Number_of_individuals): # repeat for the number of individuals
    answer_list = []
    for Number_of_matches in range(Number_of_questions): # create random answers for the number of questions
        answer_list.append(random.randint(1, Number_of_choices))
    grade = evaluation(answer_list)
    Group.append(Answering_the_quiz(answer_list, grade))

print ("Initial state (0th generation)")
Output_group_to_screen () # Output initial state of group to screen

print ("Correct answer")
print (Correct_answer)

# Repeat "selection, crossover and mutation" for 100 generations
wk_max = []
wk_ix = []
for generation in range(1,101):
    Grade_list = Get_a_list_of_the_scores_in_the_group()
    print ("Start the " + str (generation) + "generation processing")

    #### Selection ####
    Grade_list_determine_parent = copy.deepcopy (Grade_list) # Copy values ??instead of references by deepcopy
    Grade_list_determine_selection = copy.deepcopy (Grade_list) # Copy values ??instead of references by deepcopy

    Maximum_individual = Grade_list_determine_parent.index (max (Grade_list_determine_parent))

    wk_max.append(max (Grade_list_determine_parent))
    wk_ix.append (int(generation))

    print ("The highest score Individual location is " + str(Maximum_individual) + " , ",end = "")
    Grade_list_determine_parent[Maximum_individual] = -1
    Next_maximum_individual = Grade_list_determine_parent.index (max (Grade_list_determine_parent))
    print ("The second  highest score Individual location is " + str(Next_maximum_individual))

    Minimum_individual = Grade_list_determine_selection.index (min (Grade_list_determine_selection))
    print ("The lowest score individual location is " + str(Minimum_individual) + " , ", end = "")
    Grade_list_determine_selection[Minimum_individual] = Full_score +100
    Next_minimum_individual = Grade_list_determine_selection.index(min (Grade_list_determine_selection))
    print ("The next lowest score individual location is " + str(Next_minimum_individual))

    print ("The two excellent parents are copied as new individuals") # Duplicate the two excellent parents to the inferior two individuals
    Group[Minimum_individual].answer_list = copy.deepcopy (Group[Maximum_individual].answer_list)
    Group[Next_minimum_individual].answer_list = copy.deepcopy (Group[Next_maximum_individual].answer_list)

    Evaluate_all_individuals_in_the_dgroup()
    Output_group_to_screen()

    #### Crossover of new individuals ####
    Intersection = random.randint (1, Number_of_questions -1)
    print ("Cross new individuals at location" + str(Intersection))
    New_plane = Crossover(Group[Minimum_individual].answer_list, Group[Next_minimum_individual].answer_list, Intersection) # Two crossed lists are returned
    Group[Minimum_individual].answer_list = copy.deepcopy (New_plane[0]) # first crossed
    Group[Next_minimum_individual].answer_list = copy.deepcopy (New_plane[1]) # second crossed

    Evaluate_all_individuals_in_the_dgroup()
    Output_group_to_screen()

    
    #### mutation ####
    Mutation_point = random.randint(0, Number_of_questions -1)
    print ("mutate")
    print ("lowest score individual" + str(Minimum_individual) + ":" + str(Mutation_point))
    Group[Minimum_individual].answer_list = mutation(Group[Minimum_individual].answer_list, Mutation_point)

    Mutation_point = random.randint (0, Number_of_questions -1)
    print ("Mutation location of lowest score individual " + str(Next_minimum_individual) + " : " + str(Mutation_point))
    Group[Next_minimum_individual].answer_list = mutation (Group[Next_minimum_individual].answer_list, Mutation_point)

    # After the end of this generation, output all individuals with their scores
    Evaluate_all_individuals_in_the_dgroup()
    Output_group_to_screen()

    if Full_score in Grade_list:
        print ("Generations with full score appeared with " +str(generation) + "! ")
        print (wk_max)
        print (wk_ix)
        pyplot.plot (wk_ix, wk_max)
        break # repeat ends when full score


    print (" End processing of generation " + str(generation))
